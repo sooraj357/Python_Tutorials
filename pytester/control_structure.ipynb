{
 "cells": [
  {
   "cell_type": "markdown",
   "id": "fc1a5081",
   "metadata": {},
   "source": [
    "if, elif, else statements"
   ]
  },
  {
   "cell_type": "code",
   "execution_count": null,
   "id": "d6de9797",
   "metadata": {},
   "outputs": [
    {
     "name": "stdout",
     "output_type": "stream",
     "text": [
      "Odd\n"
     ]
    }
   ],
   "source": [
    "num = int(input(\"Enter a number: \"))\n",
    "if num % 2 == 0:\n",
    "    print(\"Even\")\n",
    "else:\n",
    "    print(\"Odd\")"
   ]
  },
  {
   "cell_type": "code",
   "execution_count": 4,
   "id": "8867cde7",
   "metadata": {},
   "outputs": [
    {
     "name": "stdout",
     "output_type": "stream",
     "text": [
      "Negative\n"
     ]
    }
   ],
   "source": [
    "num = float(input(\"Enter a number: \"))\n",
    "if num > 0:\n",
    "    print(\"Positive\")\n",
    "elif num < 0:\n",
    "    print(\"Negative\")\n",
    "else:\n",
    "    print(\"Zero\")"
   ]
  },
  {
   "cell_type": "code",
   "execution_count": 5,
   "id": "7169d124",
   "metadata": {},
   "outputs": [
    {
     "name": "stdout",
     "output_type": "stream",
     "text": [
      "Leap year\n"
     ]
    }
   ],
   "source": [
    "# leap year\n",
    "\n",
    "year = int(input(\"Enter a year: \"))\n",
    "if (year % 4 == 0 and year % 100 != 0) or (year % 400 == 0):\n",
    "    print(\"Leap year\")\n",
    "else:\n",
    "    print(\"Not a leap year\")"
   ]
  },
  {
   "cell_type": "code",
   "execution_count": 8,
   "id": "96261851",
   "metadata": {},
   "outputs": [
    {
     "name": "stdout",
     "output_type": "stream",
     "text": [
      "Not a letter\n"
     ]
    }
   ],
   "source": [
    "# check Vowel or Consonant\n",
    "\n",
    "ch = input(\"Enter a letter: \").lower()\n",
    "if ch in \"aeiou\":\n",
    "    print(\"Vowel\")\n",
    "elif ch.isalpha():\n",
    "    print(\"Consonant\")\n",
    "else:\n",
    "    print(\"Not a letter\")\n"
   ]
  },
  {
   "cell_type": "markdown",
   "id": "50e66e04",
   "metadata": {},
   "source": [
    "Comparison and logical operators"
   ]
  },
  {
   "cell_type": "code",
   "execution_count": 10,
   "id": "7bb86b0d",
   "metadata": {},
   "outputs": [
    {
     "name": "stdout",
     "output_type": "stream",
     "text": [
      "a=23 b=23\n",
      "\n",
      "--- Comparison Results ---\n",
      "a == b: True\n",
      "a != b: False\n",
      "a > b:  False\n",
      "a < b:  False\n",
      "a >= b: True\n",
      "a <= b: True\n"
     ]
    }
   ],
   "source": [
    "# Comparison Operators Demo\n",
    "a = int(input(\"Enter the first number (a): \"))\n",
    "b = int(input(\"Enter the second number (b): \"))\n",
    "\n",
    "print(f\"a={a} b={b}\")\n",
    "print(\"\\n--- Comparison Results ---\")\n",
    "print(f\"a == b: {a == b}\")   # Equal to\n",
    "print(f\"a != b: {a != b}\")   # Not equal to\n",
    "print(f\"a > b:  {a > b}\")    # Greater than\n",
    "print(f\"a < b:  {a < b}\")    # Less than\n",
    "print(f\"a >= b: {a >= b}\")   # Greater than or equal to\n",
    "print(f\"a <= b: {a <= b}\")   # Less than or equal to"
   ]
  },
  {
   "cell_type": "code",
   "execution_count": 11,
   "id": "d373a8e3",
   "metadata": {},
   "outputs": [
    {
     "name": "stdout",
     "output_type": "stream",
     "text": [
      "\n",
      "--- Logical Operations ---\n",
      "a and b: True\n",
      "a or b:  True\n",
      "not a:   False\n",
      "not b:   False\n"
     ]
    }
   ],
   "source": [
    "# Logical Operators Demo\n",
    "\n",
    "# Input two boolean values (as strings \"True\" or \"False\")\n",
    "a = input(\"Enter first boolean value (True/False): \").strip().capitalize()\n",
    "b = input(\"Enter second boolean value (True/False): \").strip().capitalize()\n",
    "\n",
    "# Convert string input to actual boolean values\n",
    "a = True if a == \"True\" else False\n",
    "b = True if b == \"True\" else False\n",
    "\n",
    "print(\"\\n--- Logical Operations ---\")\n",
    "print(f\"a and b: {a and b}\")   # True only if both are True\n",
    "print(f\"a or b:  {a or b}\")    # True if at least one is True\n",
    "print(f\"not a:   {not a}\")     # Reverses the value of a\n",
    "print(f\"not b:   {not b}\")     # Reverses the value of b"
   ]
  },
  {
   "cell_type": "code",
   "execution_count": null,
   "id": "3bc6e2f4",
   "metadata": {},
   "outputs": [],
   "source": []
  }
 ],
 "metadata": {
  "kernelspec": {
   "display_name": "Python 3",
   "language": "python",
   "name": "python3"
  },
  "language_info": {
   "codemirror_mode": {
    "name": "ipython",
    "version": 3
   },
   "file_extension": ".py",
   "mimetype": "text/x-python",
   "name": "python",
   "nbconvert_exporter": "python",
   "pygments_lexer": "ipython3",
   "version": "3.13.3"
  }
 },
 "nbformat": 4,
 "nbformat_minor": 5
}
