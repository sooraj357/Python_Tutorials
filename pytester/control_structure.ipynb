{
 "cells": [
  {
   "cell_type": "markdown",
   "id": "76a4c4b7",
   "metadata": {},
   "source": [
    "# Control Structure"
   ]
  },
  {
   "cell_type": "code",
   "execution_count": null,
   "id": "d6de9797",
   "metadata": {},
   "outputs": [
    {
     "name": "stdout",
     "output_type": "stream",
     "text": [
      "Odd\n"
     ]
    }
   ],
   "source": [
    "#if, elif, else statements\n",
    "\n",
    "num = int(input(\"Enter a number: \"))\n",
    "if num % 2 == 0:\n",
    "    print(\"Even\")\n",
    "else:\n",
    "    print(\"Odd\")"
   ]
  },
  {
   "cell_type": "code",
   "execution_count": 4,
   "id": "8867cde7",
   "metadata": {},
   "outputs": [
    {
     "name": "stdout",
     "output_type": "stream",
     "text": [
      "Negative\n"
     ]
    }
   ],
   "source": [
    "num = float(input(\"Enter a number: \"))\n",
    "if num > 0:\n",
    "    print(\"Positive\")\n",
    "elif num < 0:\n",
    "    print(\"Negative\")\n",
    "else:\n",
    "    print(\"Zero\")"
   ]
  },
  {
   "cell_type": "code",
   "execution_count": 5,
   "id": "7169d124",
   "metadata": {},
   "outputs": [
    {
     "name": "stdout",
     "output_type": "stream",
     "text": [
      "Leap year\n"
     ]
    }
   ],
   "source": [
    "# leap year\n",
    "\n",
    "year = int(input(\"Enter a year: \"))\n",
    "if (year % 4 == 0 and year % 100 != 0) or (year % 400 == 0):\n",
    "    print(\"Leap year\")\n",
    "else:\n",
    "    print(\"Not a leap year\")"
   ]
  },
  {
   "cell_type": "code",
   "execution_count": 8,
   "id": "96261851",
   "metadata": {},
   "outputs": [
    {
     "name": "stdout",
     "output_type": "stream",
     "text": [
      "Not a letter\n"
     ]
    }
   ],
   "source": [
    "# check Vowel or Consonant\n",
    "\n",
    "ch = input(\"Enter a letter: \").lower()\n",
    "if ch in \"aeiou\":\n",
    "    print(\"Vowel\")\n",
    "elif ch.isalpha():\n",
    "    print(\"Consonant\")\n",
    "else:\n",
    "    print(\"Not a letter\")\n"
   ]
  },
  {
   "cell_type": "markdown",
   "id": "50e66e04",
   "metadata": {},
   "source": [
    "Comparison and logical operators"
   ]
  },
  {
   "cell_type": "code",
   "execution_count": 10,
   "id": "7bb86b0d",
   "metadata": {},
   "outputs": [
    {
     "name": "stdout",
     "output_type": "stream",
     "text": [
      "a=23 b=23\n",
      "\n",
      "--- Comparison Results ---\n",
      "a == b: True\n",
      "a != b: False\n",
      "a > b:  False\n",
      "a < b:  False\n",
      "a >= b: True\n",
      "a <= b: True\n"
     ]
    }
   ],
   "source": [
    "# Comparison Operators Demo\n",
    "a = int(input(\"Enter the first number (a): \"))\n",
    "b = int(input(\"Enter the second number (b): \"))\n",
    "\n",
    "print(f\"a={a} b={b}\")\n",
    "print(\"\\n--- Comparison Results ---\")\n",
    "print(f\"a == b: {a == b}\")   # Equal to\n",
    "print(f\"a != b: {a != b}\")   # Not equal to\n",
    "print(f\"a > b:  {a > b}\")    # Greater than\n",
    "print(f\"a < b:  {a < b}\")    # Less than\n",
    "print(f\"a >= b: {a >= b}\")   # Greater than or equal to\n",
    "print(f\"a <= b: {a <= b}\")   # Less than or equal to"
   ]
  },
  {
   "cell_type": "code",
   "execution_count": 11,
   "id": "d373a8e3",
   "metadata": {},
   "outputs": [
    {
     "name": "stdout",
     "output_type": "stream",
     "text": [
      "\n",
      "--- Logical Operations ---\n",
      "a and b: True\n",
      "a or b:  True\n",
      "not a:   False\n",
      "not b:   False\n"
     ]
    }
   ],
   "source": [
    "# Logical Operators Demo\n",
    "\n",
    "# Input two boolean values (as strings \"True\" or \"False\")\n",
    "a = input(\"Enter first boolean value (True/False): \").strip().capitalize()\n",
    "b = input(\"Enter second boolean value (True/False): \").strip().capitalize()\n",
    "\n",
    "# Convert string input to actual boolean values\n",
    "a = True if a == \"True\" else False\n",
    "b = True if b == \"True\" else False\n",
    "\n",
    "print(\"\\n--- Logical Operations ---\")\n",
    "print(f\"a and b: {a and b}\")   # True only if both are True\n",
    "print(f\"a or b:  {a or b}\")    # True if at least one is True\n",
    "print(f\"not a:   {not a}\")     # Reverses the value of a\n",
    "print(f\"not b:   {not b}\")     # Reverses the value of b"
   ]
  },
  {
   "cell_type": "code",
   "execution_count": 1,
   "id": "3bc6e2f4",
   "metadata": {},
   "outputs": [
    {
     "name": "stdout",
     "output_type": "stream",
     "text": [
      "First n7 natural no\n",
      "0\n",
      "1\n",
      "2\n",
      "3\n",
      "4\n",
      "5\n",
      "6\n",
      "7\n"
     ]
    }
   ],
   "source": [
    "# while loops\n",
    "\n",
    "n = int(input(\"Enter a number\"))\n",
    "i=0\n",
    "print(f\"First n{n} natural no\")\n",
    "while i<=n:\n",
    "    print(i)\n",
    "    i += 1"
   ]
  },
  {
   "cell_type": "code",
   "execution_count": 7,
   "id": "03520e2c",
   "metadata": {},
   "outputs": [
    {
     "name": "stdout",
     "output_type": "stream",
     "text": [
      "1\n",
      "2\n",
      "4\n",
      "5\n"
     ]
    }
   ],
   "source": [
    "i = 0\n",
    "while i < 5:\n",
    "    i += 1\n",
    "    if i == 3:\n",
    "        continue\n",
    "    print(i)"
   ]
  },
  {
   "cell_type": "code",
   "execution_count": 5,
   "id": "e7939917",
   "metadata": {},
   "outputs": [
    {
     "name": "stdout",
     "output_type": "stream",
     "text": [
      "0\n",
      "1\n",
      "2\n",
      "3\n",
      "4\n"
     ]
    }
   ],
   "source": [
    "# for loop\n",
    "\n",
    "for i in range(5):\n",
    "    print(i)"
   ]
  },
  {
   "cell_type": "code",
   "execution_count": 6,
   "id": "c6a9525b",
   "metadata": {},
   "outputs": [
    {
     "name": "stdout",
     "output_type": "stream",
     "text": [
      "apple\n",
      "banana\n",
      "cherry\n"
     ]
    }
   ],
   "source": [
    "fruits = [\"apple\", \"banana\", \"cherry\"]\n",
    "for fruit in fruits:\n",
    "    print(fruit)"
   ]
  },
  {
   "cell_type": "code",
   "execution_count": null,
   "id": "9eac1418",
   "metadata": {},
   "outputs": [
    {
     "name": "stdout",
     "output_type": "stream",
     "text": [
      "0\n",
      "1\n",
      "2\n",
      "3\n",
      "4\n"
     ]
    }
   ],
   "source": [
    "for i in range(10):\n",
    "    if i == 5:\n",
    "        break   #break: exits the loop entirely\n",
    "    print(i)"
   ]
  },
  {
   "cell_type": "code",
   "execution_count": null,
   "id": "c4d53494",
   "metadata": {},
   "outputs": [
    {
     "name": "stdout",
     "output_type": "stream",
     "text": [
      "0\n",
      "1\n",
      "3\n",
      "4\n"
     ]
    }
   ],
   "source": [
    "for i in range(5):\n",
    "    if i == 2:\n",
    "        continue    #continue: skips the rest of the loop and goes back to the condition check\n",
    "    print(i)"
   ]
  },
  {
   "cell_type": "code",
   "execution_count": null,
   "id": "b0561ad6",
   "metadata": {},
   "outputs": [
    {
     "name": "stdout",
     "output_type": "stream",
     "text": [
      "0\n",
      "1\n",
      "2\n",
      "Loop completed\n"
     ]
    }
   ],
   "source": [
    "#Runs after the loop ends normally (not by break)\n",
    "\n",
    "for i in range(3):\n",
    "    print(i)\n",
    "else:\n",
    "    print(\"Loop completed\")"
   ]
  },
  {
   "cell_type": "code",
   "execution_count": 11,
   "id": "7f58687e",
   "metadata": {},
   "outputs": [],
   "source": [
    "# The 'pass' statement in Python is a null operation — it does nothing. \n",
    "# It's used as a placeholder in places where code is syntactically required, but you don't want anything to happen (yet).\n",
    "\n",
    "x = 10\n",
    "if x > 0:\n",
    "    pass\n",
    "else:\n",
    "    print(\"x is not positive\")"
   ]
  },
  {
   "cell_type": "code",
   "execution_count": null,
   "id": "c7306216",
   "metadata": {},
   "outputs": [],
   "source": []
  }
 ],
 "metadata": {
  "kernelspec": {
   "display_name": "Python 3",
   "language": "python",
   "name": "python3"
  },
  "language_info": {
   "codemirror_mode": {
    "name": "ipython",
    "version": 3
   },
   "file_extension": ".py",
   "mimetype": "text/x-python",
   "name": "python",
   "nbconvert_exporter": "python",
   "pygments_lexer": "ipython3",
   "version": "3.13.3"
  }
 },
 "nbformat": 4,
 "nbformat_minor": 5
}
