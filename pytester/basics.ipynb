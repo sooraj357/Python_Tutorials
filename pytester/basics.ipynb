{
 "cells": [
  {
   "cell_type": "markdown",
   "id": "631bd117",
   "metadata": {},
   "source": [
    "# PYTHON BASICS"
   ]
  },
  {
   "cell_type": "code",
   "execution_count": 1,
   "id": "c7a5565c",
   "metadata": {},
   "outputs": [
    {
     "name": "stdout",
     "output_type": "stream",
     "text": [
      "Hi I am SHOURYADIP BERA\n",
      "I am a FULL STACK DEVELOPER\n"
     ]
    }
   ],
   "source": [
    "print(\"Hi I am SHOURYADIP BERA\")\n",
    "print(\"I am a FULL STACK DEVELOPER\")"
   ]
  },
  {
   "cell_type": "code",
   "execution_count": null,
   "id": "fc99eb9a",
   "metadata": {},
   "outputs": [
    {
     "name": "stdout",
     "output_type": "stream",
     "text": [
      "<class 'int'>\n",
      "<class 'float'>\n",
      "<class 'str'>\n",
      "<class 'bool'>\n"
     ]
    }
   ],
   "source": [
    "# Variables and data types (int, float, str, bool)\n",
    "\n",
    "n1 = 7\n",
    "n2 = 5.87\n",
    "n3 = 'programming'\n",
    "n4 = True\n",
    "\n",
    "print(type(n1))     # using type function to find the variable types\n",
    "print(type(n2))\n",
    "print(type(n3))\n",
    "print(type(n4))"
   ]
  },
  {
   "cell_type": "code",
   "execution_count": null,
   "id": "245780d1",
   "metadata": {},
   "outputs": [
    {
     "name": "stdout",
     "output_type": "stream",
     "text": [
      "55778 <class 'str'>\n"
     ]
    }
   ],
   "source": [
    "# take user input in python \n",
    "\n",
    "n = input(\"Enter detail :\")\n",
    "print(n,type(n))\n",
    "\n",
    "# conclusion : By default the input in python takes value as string  "
   ]
  },
  {
   "cell_type": "code",
   "execution_count": 5,
   "id": "8e16e28a",
   "metadata": {},
   "outputs": [
    {
     "name": "stdout",
     "output_type": "stream",
     "text": [
      "4 <class 'int'>\n",
      "4.8 <class 'float'>\n",
      "s.bera <class 'str'>\n",
      "True <class 'bool'>\n"
     ]
    }
   ],
   "source": [
    "# if I have to take int , float , string as input value \n",
    "\n",
    "n1 = int(input(\"Enter an integer value :\"))\n",
    "\n",
    "n2 = float(input(\"Enter a float value :\"))\n",
    "\n",
    "n3 = str(input(\"Enter a string value :\"))   # for development purpose it's good to depend on declaration rather than default \n",
    "\n",
    "n4 = bool(input(\"enter true or false\"))\n",
    "\n",
    "print(n1,type(n1))\n",
    "print(n2,type(n2))\n",
    "print(n3,type(n3))\n",
    "print(n4,type(n4))"
   ]
  },
  {
   "cell_type": "code",
   "execution_count": 1,
   "id": "95973ab1",
   "metadata": {},
   "outputs": [
    {
     "name": "stdout",
     "output_type": "stream",
     "text": [
      "15 <class 'int'>\n",
      "15.0 <class 'float'>\n",
      "15 <class 'str'>\n"
     ]
    }
   ],
   "source": [
    "# Type conversion and input/output\n",
    "\n",
    "age = int(input(\"Enter an age :\"))\n",
    "print(age,type(age))\n",
    "\n",
    "d1  = float(age)\n",
    "print(d1,type(d1))\n",
    "\n",
    "d2 = str(age)\n",
    "print(d2,type(d2))"
   ]
  },
  {
   "cell_type": "code",
   "execution_count": 3,
   "id": "530c6344",
   "metadata": {},
   "outputs": [
    {
     "name": "stdout",
     "output_type": "stream",
     "text": [
      "n1 : 2  n2 : 5\n",
      "Multiplication : 10\n",
      "Division : 0.4\n",
      "Summation : 7\n",
      "Substraction : -3\n",
      "power : 32\n"
     ]
    }
   ],
   "source": [
    "# Basic operators (+, -, *, /, //, %, **)\n",
    "\n",
    "n1 = int(input(\"Enter first number :\"))\n",
    "n2 = int(input(\"Enter second number :\"))\n",
    "\n",
    "print(f\"n1 :\",n1,\" n2 :\",n2)\n",
    "print(\"Multiplication :\",n1*n2)\n",
    "print(\"Division :\",n1/n2)\n",
    "print(\"Summation :\",n1+n2)\n",
    "print(\"Substraction :\",n1-n2)\n",
    "print(\"power :\",n1**n2)"
   ]
  },
  {
   "cell_type": "code",
   "execution_count": 7,
   "id": "a21cf190",
   "metadata": {},
   "outputs": [
    {
     "name": "stdout",
     "output_type": "stream",
     "text": [
      "30\n"
     ]
    }
   ],
   "source": [
    "# String manipulation (len(), slicing, methods)\n",
    "\n",
    "text = \"Hi I am a Full Stack Developer\"\n",
    "print(len(text))"
   ]
  },
  {
   "cell_type": "code",
   "execution_count": 8,
   "id": "aa775662",
   "metadata": {},
   "outputs": [
    {
     "name": "stdout",
     "output_type": "stream",
     "text": [
      "Py\n",
      "thon\n",
      "Pyt\n",
      "n\n",
      "nohtyP\n",
      "y\n",
      "Python\n",
      "P\n"
     ]
    }
   ],
   "source": [
    "# String manipulation (len(), slicing, methods)\n",
    "\n",
    "s = \"Python\"\n",
    "\n",
    "print(s[0:2])   \n",
    "print(s[2:])     \n",
    "print(s[:3])     \n",
    "print(s[-1])     \n",
    "print(s[::-1])   \n",
    "print(s[1])\n",
    "print(s[::1])\n",
    "print(s[0::-1])"
   ]
  },
  {
   "cell_type": "code",
   "execution_count": 29,
   "id": "d6529b77",
   "metadata": {},
   "outputs": [
    {
     "name": "stdout",
     "output_type": "stream",
     "text": [
      "python\n",
      "HELLO\n",
      "Python\n",
      "Hello World\n",
      "hello\n",
      "hello Nick\n",
      "['python', 'dev']\n",
      "hello world\n",
      "3\n",
      "2\n",
      "True\n",
      "True\n",
      "True\n",
      "True\n"
     ]
    }
   ],
   "source": [
    "# String manipulation (len(), slicing, methods)\n",
    "\n",
    "print(\"PYTHON\".lower()) #Convert to lowercase\n",
    "\n",
    "print(\"hello\".upper())  #Convert to uppercase\n",
    "\n",
    "print(\"python\".capitalize())    #Capitalize first letter\n",
    "\n",
    "print(\"hello world\".title())    #Capitalize first letter of each word\n",
    "\n",
    "print(\" hello \".strip())    #Remove whitespace from both ends\n",
    "\n",
    "print(\"hello world\".replace(\"world\",\"Nick\"))    #Replace substring\n",
    "\n",
    "print(\"python dev\".split(\" \"))  #Split string into a list\n",
    "\n",
    "print(\" \".join([\"hello\",\"world\"]))  #Join list into string\n",
    "\n",
    "print(\"world\".find(\"l\"))    #Find first index of substring\n",
    "\n",
    "print(\"summer\".count(\"m\"))  #Count occurrences of substring\n",
    "\n",
    "print(\"hello\".startswith(\"he\")) #Check if string starts with something\n",
    "\n",
    "print(\"file.txt\".endswith(\".txt\"))  #Check if string ends with something\n",
    "\n",
    "print(\"123\".isdigit())  #Checks if all characters are digits\n",
    "\n",
    "print(\"abc\".isalpha())  #Checks if all characters are letters"
   ]
  },
  {
   "cell_type": "code",
   "execution_count": 30,
   "id": "361fc3bb",
   "metadata": {},
   "outputs": [
    {
     "name": "stdout",
     "output_type": "stream",
     "text": [
      "hello world!\n"
     ]
    }
   ],
   "source": [
    "# real-life use of string methods \n",
    "\n",
    "msg = \"  Hello Python!  \"\n",
    "\n",
    "clean = msg.strip().lower().replace(\"python\", \"world\")\n",
    "print(clean)  # 'hello world!'"
   ]
  },
  {
   "cell_type": "code",
   "execution_count": 31,
   "id": "78ff62d0",
   "metadata": {},
   "outputs": [
    {
     "name": "stdout",
     "output_type": "stream",
     "text": [
      "Total: $1,234,567.89\n"
     ]
    }
   ],
   "source": [
    "# f-strings and formatting output \n",
    "\n",
    "price = 1234567.8912\n",
    "print(f\"Total: ${price:,.2f}\")  # Add commas and round to 2 decimals"
   ]
  },
  {
   "cell_type": "code",
   "execution_count": 32,
   "id": "49d9e02d",
   "metadata": {},
   "outputs": [
    {
     "name": "stdout",
     "output_type": "stream",
     "text": [
      "Decimal: 255, Binary: 11111111, Hex: ff, Octal: 377\n"
     ]
    }
   ],
   "source": [
    "num = 255\n",
    "print(f\"Decimal: {num}, Binary: {num:b}, Hex: {num:x}, Octal: {num:o}\")"
   ]
  },
  {
   "cell_type": "code",
   "execution_count": 33,
   "id": "c4a19183",
   "metadata": {},
   "outputs": [
    {
     "name": "stdout",
     "output_type": "stream",
     "text": [
      "Current Time: 2025-05-22 23:07:12\n"
     ]
    }
   ],
   "source": [
    "from datetime import datetime\n",
    "\n",
    "now = datetime.now()\n",
    "print(f\"Current Time: {now:%Y-%m-%d %H:%M:%S}\")"
   ]
  },
  {
   "cell_type": "code",
   "execution_count": 34,
   "id": "90bc2511",
   "metadata": {},
   "outputs": [
    {
     "name": "stdout",
     "output_type": "stream",
     "text": [
      "Formatted:    123.457\n"
     ]
    }
   ],
   "source": [
    "value = 123.456789\n",
    "width = 10\n",
    "precision = 3\n",
    "\n",
    "print(f\"Formatted: {value:{width}.{precision}f}\")"
   ]
  },
  {
   "cell_type": "code",
   "execution_count": 35,
   "id": "d5dec4eb",
   "metadata": {},
   "outputs": [
    {
     "name": "stdout",
     "output_type": "stream",
     "text": [
      "JOHN is 60 years in double age.\n"
     ]
    }
   ],
   "source": [
    "name = \"john\"\n",
    "age = 30\n",
    "print(f\"{name.upper()} is {age * 2} years in double age.\")"
   ]
  },
  {
   "cell_type": "code",
   "execution_count": null,
   "id": "b6a7854f",
   "metadata": {},
   "outputs": [],
   "source": []
  }
 ],
 "metadata": {
  "kernelspec": {
   "display_name": "Python 3",
   "language": "python",
   "name": "python3"
  },
  "language_info": {
   "codemirror_mode": {
    "name": "ipython",
    "version": 3
   },
   "file_extension": ".py",
   "mimetype": "text/x-python",
   "name": "python",
   "nbconvert_exporter": "python",
   "pygments_lexer": "ipython3",
   "version": "3.13.3"
  }
 },
 "nbformat": 4,
 "nbformat_minor": 5
}
